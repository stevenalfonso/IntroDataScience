{
 "cells": [
  {
   "cell_type": "code",
   "execution_count": 82,
   "metadata": {
    "scrolled": true
   },
   "outputs": [],
   "source": [
    "import numpy as np\n",
    "import matplotlib.pyplot as plt\n",
    "\n",
    "data = np.loadtxt(\"Datos/notas_andes.dat\", skiprows=1)\n",
    "#ones = np.ones((69,1))\n",
    "#data = np.concatenate((ones, data), axis=1)"
   ]
  },
  {
   "cell_type": "code",
   "execution_count": 123,
   "metadata": {},
   "outputs": [],
   "source": [
    "def model(x, betas):\n",
    "    y = betas[0] + betas[1]*x[:,0] + betas[2]*x[:,1] + betas[3]*x[:,2] + betas[4]*x[:,3]\n",
    "    return y\n",
    "\n",
    "sigma = 0.1\n",
    "n_ = 69\n",
    "\n",
    "def like(x, y, sigma, betas, n_):\n",
    "    a = (-1/(2 * sigma**2))*np.sum((y - model(x, betas))**2)\n",
    "    l = sigma**(-n_) * a\n",
    "    return l"
   ]
  },
  {
   "cell_type": "code",
   "execution_count": 126,
   "metadata": {},
   "outputs": [],
   "source": [
    "N = 100000\n",
    "def metropolis(N):\n",
    "    #r = np.zeros(1)\n",
    "    Y = data[:,4]\n",
    "    X = data[:,:4]\n",
    "    #betas = np.random.random_sample(5)\n",
    "    betas = np.zeros(5)\n",
    "    p = like(X, Y, sigma, betas, n_)\n",
    "    pts = []\n",
    "    for i in range(N): # variar betas\n",
    "        betas_n = betas + np.random.uniform(-1,1)\n",
    "        p_n = like(X, Y, sigma, betas_n, n_)\n",
    "        if p_n >= p:\n",
    "            p = p_n\n",
    "            betas = betas_n\n",
    "        else:\n",
    "            u = np.random.rand()\n",
    "            if u < p_n / p:\n",
    "                p = p_n\n",
    "                betas = betas_n\n",
    "        pts.append(betas)\n",
    "    \n",
    "    pts = np.array(pts)\n",
    "    return pts\n",
    "\n",
    "samples = metropolis(N)"
   ]
  },
  {
   "cell_type": "code",
   "execution_count": 138,
   "metadata": {},
   "outputs": [
    {
     "data": {
      "image/png": "[encoded data removed]",
      "text/plain": [
       "<matplotlib.figure.Figure at 0x7f32da32aac8>"
      ]
     },
     "metadata": {},
     "output_type": "display_data"
    }
   ],
   "source": [
    "#samples.shape\n",
    "plt.hist(samples[:,0])\n",
    "plt.show()"
   ]
  }
 ],
 "metadata": {
  "kernelspec": {
   "display_name": "Python 3",
   "language": "python",
   "name": "python3"
  },
  "language_info": {
   "codemirror_mode": {
    "name": "ipython",
    "version": 3
   },
   "file_extension": ".py",
   "mimetype": "text/x-python",
   "name": "python",
   "nbconvert_exporter": "python",
   "pygments_lexer": "ipython3",
   "version": "3.6.8"
  }
 },
 "nbformat": 4,
 "nbformat_minor": 2
}
