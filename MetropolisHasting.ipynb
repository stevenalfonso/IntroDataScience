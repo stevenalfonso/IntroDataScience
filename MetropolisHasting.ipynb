{
 "cells": [
  {
   "cell_type": "code",
   "execution_count": 22,
   "metadata": {},
   "outputs": [
    {
     "data": {
      "image/png": "[encoded data removed]",
      "text/plain": [
       "<matplotlib.figure.Figure at 0x7f42f1a85dd8>"
      ]
     },
     "metadata": {},
     "output_type": "display_data"
    },
    {
     "name": "stdout",
     "output_type": "stream",
     "text": [
      "[[0.        ]\n",
      " [0.76033573]\n",
      " [0.54013522]\n",
      " ...\n",
      " [4.85923538]\n",
      " [4.85923538]\n",
      " [5.05721101]]\n"
     ]
    }
   ],
   "source": [
    "import numpy as np\n",
    "import matplotlib.pyplot as plt\n",
    "\n",
    "mu, sigma, N = 5, 3, 1000000\n",
    "\n",
    "def gauss(x):\n",
    "    amp = 1 / (sigma * np.sqrt(2 * np.pi))\n",
    "    exp = np.exp(-(x - mu)**2 / (2 * sigma**2))\n",
    "    gauss = amp * exp\n",
    "    return gauss\n",
    "\n",
    "def metropolis(N):\n",
    "    r = np.zeros(1)\n",
    "    p = gauss(r[0])\n",
    "    pts = []\n",
    "    \n",
    "    for i in range(N):\n",
    "        r_n = r + np.random.uniform(-1,1)\n",
    "        p_n = gauss(r_n[0])\n",
    "        if pn >= p:\n",
    "            p = p_n\n",
    "            r = r_n\n",
    "        else:\n",
    "            u = np.random.rand()\n",
    "            if u < p_n / p:\n",
    "                p = p_n\n",
    "                r = r_n\n",
    "        pts.append(r)\n",
    "    \n",
    "    pts = np.array(pts)\n",
    "    return pts\n",
    "\n",
    "def hist(array):\n",
    "    fig = plt.figure()\n",
    "    ax = fig.add_subplot(1,1,1,)\n",
    "    ax.hist(array, bins='auto')    \n",
    "    plt.title(':)',rotation=270, fontsize=15)\n",
    "    plt.xlabel('Data')\n",
    "    plt.ylabel('')\n",
    "    plt.show()\n",
    "\n",
    "samples = metropolis(N)\n",
    "hist(samples)\n",
    "print(samples)"
   ]
  }
 ],
 "metadata": {
  "kernelspec": {
   "display_name": "Python 3",
   "language": "python",
   "name": "python3"
  },
  "language_info": {
   "codemirror_mode": {
    "name": "ipython",
    "version": 3
   },
   "file_extension": ".py",
   "mimetype": "text/x-python",
   "name": "python",
   "nbconvert_exporter": "python",
   "pygments_lexer": "ipython3",
   "version": "3.6.8"
  }
 },
 "nbformat": 4,
 "nbformat_minor": 2
}
