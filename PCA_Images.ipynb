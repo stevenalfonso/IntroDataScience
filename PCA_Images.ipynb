{
 "cells": [
  {
   "cell_type": "code",
   "execution_count": 34,
   "metadata": {},
   "outputs": [],
   "source": [
    "import matplotlib.pyplot as plt\n",
    "import sklearn.datasets as skdata\n",
    "import numpy as np\n",
    "from sklearn.preprocessing import StandardScaler\n",
    "from sklearn.model_selection import train_test_split\n",
    "\n",
    "%matplotlib inline\n",
    "\n",
    "numeros = skdata.load_digits()\n",
    "target = numeros['target']\n",
    "imagenes = numeros['images']\n",
    "n_imagenes = len(target)\n",
    "\n",
    "data = imagenes.reshape((n_imagenes, -1))\n",
    "scaler = StandardScaler()\n",
    "x_train, x_test, y_train, y_test = train_test_split(data, target, train_size=0.7)\n",
    "x_train = scaler.fit_transform(x_train)\n",
    "x_test = scaler.transform(x_test)\n",
    "\n",
    "cov = np.cov(x_train.T)\n",
    "valores, vectores = np.linalg.eig(cov)\n",
    "valores = np.real(valores)\n",
    "vectores = np.real(vectores)\n",
    "ii = np.argsort(-valores)\n",
    "valores = valores[ii]\n",
    "vectores = vectores[:,ii]\n",
    "\n",
    "#Definimos una prob por cada componente de acuerdo a los mu y sigmas\n",
    "def prob(x, vector, mu, sigma):\n",
    "    Ps=1\n",
    "    for i in x:\n",
    "        comp = np.dot(i,vector)\n",
    "        Ps=Ps*1/(sigma*np.sqrt(2*np.pi))*np.exp(-1/2*((comp-mu)/sigma)**2) \n",
    "    return Ps\n",
    "\n",
    "sigmas = np.zeros((10,20))\n",
    "mus = np.zeros((10,20))\n",
    "for i in range(10):\n",
    "    x_t = x_train[y_train == i]\n",
    "    for j in range(20):\n",
    "        mus[i,j] = np.mean(x_t @ vectores[:,j])\n",
    "        Pm = 0\n",
    "        for sig in np.linspace(0.001,20,1000):\n",
    "            Pp = prob(x_t, vectores[:,j], mus[i,j], sig)\n",
    "            if Pp > Pm:\n",
    "                Pm = Pp\n",
    "                sigmas[i,j] = sig\n",
    "                \n",
    "def probdig(x, dig):\n",
    "    Probl = np.zeros(20)\n",
    "    for i in range(20):\n",
    "        comp = np.dot(x, vectores[:,i])\n",
    "        Probl[i] = 1/(sigmas[dig,i]*np.sqrt(2*np.pi))*np.exp(-1/2*((comp-mus[dig,i])/sigmas[dig,i])**2)\n",
    "    P = np.prod(Probl)\n",
    "    return P\n",
    "\n",
    "def predict(x):\n",
    "    Probs = np.zeros(10)\n",
    "    for i in range(10):\n",
    "        Probs[i] = probdig(x, i)\n",
    "    return np.argmax(Probs)"
   ]
  },
  {
   "cell_type": "code",
   "execution_count": 37,
   "metadata": {},
   "outputs": [
    {
     "name": "stdout",
     "output_type": "stream",
     "text": [
      "0.8722222222222222\n"
     ]
    }
   ],
   "source": [
    "N = 540\n",
    "Predict = np.zeros(N)\n",
    "Etiqueta = np.zeros(N)\n",
    "for muestra in range(N):\n",
    "    xm = x_test[muestra]\n",
    "    Predict[muestra] = predict(xm)\n",
    "    Etiqueta[muestra] = y_test[muestra]\n",
    "print(sum(Etiqueta == Predict)/N)\n",
    "\n",
    "#for i in range(N):\n",
    "#    print(Etiqueta[i], Predict[i])"
   ]
  }
 ],
 "metadata": {
  "kernelspec": {
   "display_name": "Python 3",
   "language": "python",
   "name": "python3"
  },
  "language_info": {
   "codemirror_mode": {
    "name": "ipython",
    "version": 3
   },
   "file_extension": ".py",
   "mimetype": "text/x-python",
   "name": "python",
   "nbconvert_exporter": "python",
   "pygments_lexer": "ipython3",
   "version": "3.6.8"
  }
 },
 "nbformat": 4,
 "nbformat_minor": 2
}
