{
 "cells": [
  {
   "cell_type": "code",
   "execution_count": 93,
   "metadata": {},
   "outputs": [],
   "source": [
    "import matplotlib.pyplot as plt\n",
    "import sklearn.datasets as skdata\n",
    "import numpy as np\n",
    "from sklearn.preprocessing import StandardScaler\n",
    "from sklearn.model_selection import train_test_split\n",
    "from sklearn.metrics import confusion_matrix\n",
    "numeros = skdata.load_digits()\n",
    "target = numeros['target']\n",
    "imagenes = numeros['images']\n",
    "n_imagenes = len(target)\n",
    "\n",
    "data = imagenes.reshape((n_imagenes, -1))\n",
    "scaler = StandardScaler()\n",
    "x_train, x_test, y_train, y_test = train_test_split(data, target, train_size=0.7)\n",
    "x_train = scaler.fit_transform(x_train)\n",
    "x_test = scaler.transform(x_test)\n",
    "\n",
    "cov = np.cov(x_train.T)\n",
    "valores, vectores = np.linalg.eig(cov)\n",
    "valores = np.real(valores)\n",
    "vectores = np.real(vectores)\n",
    "ii = np.argsort(-valores)\n",
    "valores = valores[ii]\n",
    "vectores = vectores[:,ii]\n",
    "\n",
    "def prob(x, vector, mu, sigma):\n",
    "    Ps=1\n",
    "    for i in x:\n",
    "        comp = np.dot(i,vector)\n",
    "        Ps=Ps*1/(sigma*np.sqrt(2*np.pi))*np.exp(-1/2*((comp-mu)/sigma)**2) \n",
    "    return Ps\n",
    "\n",
    "def find(x, vector, dim):\n",
    "    sigmas = np.zeros((10,dim))\n",
    "    mus = np.zeros((10,dim))\n",
    "    for i in range(10):\n",
    "        x_t = x_train[y_train == i]\n",
    "        for j in range(dim):\n",
    "            mus[i,j] = np.mean(x_t @ vector[:,j])\n",
    "            sigmas[i,j] = np.std(x_t @ vector[:,j])\n",
    "    return mus, sigmas\n",
    "                \n",
    "def probdig(x, dig, dim):\n",
    "    Probl = np.zeros(dim)\n",
    "    for i in range(dim):\n",
    "        comp = np.dot(x, vectores[:,i])\n",
    "        Probl[i] = 1/(sigmas[dig,i]*np.sqrt(2*np.pi))*np.exp(-1/2*((comp-mus[dig,i])/sigmas[dig,i])**2)\n",
    "    P = np.prod(Probl)\n",
    "    return P\n",
    "\n",
    "def predict(x, dim):\n",
    "    Probs = np.zeros(10)\n",
    "    for i in range(10):\n",
    "        Probs[i] = probdig(x, i, dim)\n",
    "    return np.argmax(Probs)\n",
    "\n",
    "def model(N, dim):\n",
    "    Predict = np.zeros(N)\n",
    "    Etiqueta = np.zeros(N)\n",
    "    for muestra in range(N):\n",
    "        xm = x_train[muestra]\n",
    "        Predict[muestra] = predict(xm, dim) \n",
    "        Etiqueta[muestra] = y_train[muestra]\n",
    "    cm = confusion_matrix(Etiqueta, Predict)\n",
    "    efi = np.sum(Etiqueta == Predict)/N\n",
    "    return Etiqueta, Predict, cm, efi"
   ]
  },
  {
   "cell_type": "code",
   "execution_count": 109,
   "metadata": {},
   "outputs": [
    {
     "name": "stdout",
     "output_type": "stream",
     "text": [
      "Train: 0.9307875894988067\n",
      "Test: 0.924074074074074\n"
     ]
    },
    {
     "data": {
      "image/png": "[encoded data removed]",
      "text/plain": [
       "<matplotlib.figure.Figure at 0x7f51c232f390>"
      ]
     },
     "metadata": {},
     "output_type": "display_data"
    }
   ],
   "source": [
    "dim = 50\n",
    "mus, sigmas = find(x_train, vectores, dim)\n",
    "test = model(np.shape(x_test)[0], dim)\n",
    "train = model(np.shape(x_train)[0], dim)\n",
    "print('Train:', train[3])\n",
    "print('Test:', test[3])\n",
    "\n",
    "plt.figure(figsize=(15,15))\n",
    "\n",
    "plt.subplot(1, 2, 1)\n",
    "plt.imshow(train[2], interpolation='nearest')\n",
    "tick_marks = np.arange(9)\n",
    "classNames = ['0','1','2','3','4','5','6','7','8','9']\n",
    "plt.title('TRAIN', fontsize=15)\n",
    "plt.ylabel('True', fontsize=15)\n",
    "plt.xlabel('Predict', fontsize=15)\n",
    "plt.xticks(tick_marks, classNames, rotation=45)\n",
    "plt.yticks(tick_marks, classNames, rotation=45)\n",
    "\n",
    "plt.subplot(1, 2, 2)\n",
    "plt.imshow(test[2], interpolation='nearest')\n",
    "plt.title('TEST', fontsize=15)\n",
    "plt.ylabel('True', fontsize=15)\n",
    "plt.xlabel('Predict', fontsize=15)\n",
    "plt.xticks(tick_marks, classNames, rotation=45)\n",
    "plt.yticks(tick_marks, classNames, rotation=45)\n",
    "\n",
    "plt.show()"
   ]
  }
 ],
 "metadata": {
  "kernelspec": {
   "display_name": "Python 3",
   "language": "python",
   "name": "python3"
  },
  "language_info": {
   "codemirror_mode": {
    "name": "ipython",
    "version": 3
   },
   "file_extension": ".py",
   "mimetype": "text/x-python",
   "name": "python",
   "nbconvert_exporter": "python",
   "pygments_lexer": "ipython3",
   "version": "3.6.8"
  }
 },
 "nbformat": 4,
 "nbformat_minor": 2
}
