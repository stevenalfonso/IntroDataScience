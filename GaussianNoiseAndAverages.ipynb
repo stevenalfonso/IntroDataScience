{
 "cells": [
  {
   "cell_type": "code",
   "execution_count": 2,
   "metadata": {},
   "outputs": [
    {
     "data": {
      "image/png": "[encoded data removed]",
      "text/plain": [
       "<matplotlib.figure.Figure at 0x7f6e4b0fa9e8>"
      ]
     },
     "metadata": {},
     "output_type": "display_data"
    }
   ],
   "source": [
    "import numpy as np\n",
    "import matplotlib.pyplot as plt\n",
    "\n",
    "X = np.random.normal(0.8, 0.3, 100)\n",
    "\n",
    "plt.hist(X)\n",
    "plt.show()"
   ]
  },
  {
   "cell_type": "code",
   "execution_count": 3,
   "metadata": {},
   "outputs": [
    {
     "data": {
      "text/plain": [
       "0.8383838383838385"
      ]
     },
     "execution_count": 3,
     "metadata": {},
     "output_type": "execute_result"
    },
    {
     "data": {
      "image/png": "[encoded data removed]",
      "text/plain": [
       "<matplotlib.figure.Figure at 0x7f4eed8842e8>"
      ]
     },
     "metadata": {},
     "output_type": "display_data"
    }
   ],
   "source": [
    "mu = np.linspace(0, 1, 100)\n",
    "\n",
    "def like(x, mu, sigma):\n",
    "    amp = 1 / (sigma * np.sqrt(2 * np.pi))\n",
    "    exp = np.exp(-(x - mu)**2 / (2 * sigma**2))\n",
    "    gauss = amp * exp\n",
    "    prod = np.prod(gauss)\n",
    "    return prod\n",
    "\n",
    "def gauss(x, mu, sigma):\n",
    "    amp = 1 / (sigma * np.sqrt(2 * np.pi))\n",
    "    exp = np.exp(-(x - mu)**2 / (2 * sigma**2))\n",
    "    gauss = amp * exp\n",
    "    return gauss\n",
    "c = 0\n",
    "pro = np.zeros(len(mu))\n",
    "for i in mu:\n",
    "    Px = gauss(X, i, 0.3)\n",
    "    pro[c] = np.prod(Px)\n",
    "    c = c + 1\n",
    "plt.plot(mu, pro)\n",
    "\n",
    "y = np.argmax(pro)\n",
    "muy = mu[y]\n",
    "muy"
   ]
  },
  {
   "cell_type": "code",
   "execution_count": 5,
   "metadata": {},
   "outputs": [],
   "source": [
    "def prob(x, alpha, beta):\n",
    "    a = beta**2 + (x - alpha)**2\n",
    "    p = beta / (np.pi * a)\n",
    "    return p"
   ]
  },
  {
   "cell_type": "code",
   "execution_count": 10,
   "metadata": {},
   "outputs": [
    {
     "data": {
      "text/plain": [
       "(-100, 100)"
      ]
     },
     "execution_count": 10,
     "metadata": {},
     "output_type": "execute_result"
    },
    {
     "data": {
      "image/png": "[encoded data removed]",
      "text/plain": [
       "<matplotlib.figure.Figure at 0x7f6e4af37518>"
      ]
     },
     "metadata": {},
     "output_type": "display_data"
    }
   ],
   "source": [
    "theta = np.linspace(0, 10, 10000)\n",
    "beta = 10\n",
    "alpha = 5\n",
    "X = []\n",
    "for i in theta:\n",
    "    X.append(alpha + beta * np.tan(i))\n",
    "\n",
    "plt.hist(X)\n",
    "plt.xlim(-100,100)\n",
    "# = np.linspace(0, 2, 100)\n",
    "#plt.plot(X, prob(X, 0.6, 0.1))"
   ]
  },
  {
   "cell_type": "code",
   "execution_count": 29,
   "metadata": {},
   "outputs": [
    {
     "data": {
      "text/plain": [
       "0.98989898989899"
      ]
     },
     "execution_count": 29,
     "metadata": {},
     "output_type": "execute_result"
    }
   ],
   "source": [
    "alpha = np.linspace(0, 2, 100)\n",
    "c = 0\n",
    "like = np.zeros(len(alpha))\n",
    "for i in alpha:\n",
    "    P = np.log(prob(X, i, 30))\n",
    "    like[c] = np.sum(P)\n",
    "    c = c + 1\n",
    "alpha_max = alpha[np.argmax(like)]\n",
    "alpha_max"
   ]
  }
 ],
 "metadata": {
  "kernelspec": {
   "display_name": "Python 3",
   "language": "python",
   "name": "python3"
  },
  "language_info": {
   "codemirror_mode": {
    "name": "ipython",
    "version": 3
   },
   "file_extension": ".py",
   "mimetype": "text/x-python",
   "name": "python",
   "nbconvert_exporter": "python",
   "pygments_lexer": "ipython3",
   "version": "3.6.8"
  }
 },
 "nbformat": 4,
 "nbformat_minor": 2
}
